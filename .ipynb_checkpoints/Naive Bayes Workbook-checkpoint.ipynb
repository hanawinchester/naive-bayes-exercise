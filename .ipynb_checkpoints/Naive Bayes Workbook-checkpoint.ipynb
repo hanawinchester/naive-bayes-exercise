{
 "cells": [
  {
   "cell_type": "markdown",
   "id": "8d684a9a-ccbb-4710-92f9-e62ee4a2e97e",
   "metadata": {},
   "source": [
    "# Naive Bayes Workbook"
   ]
  },
  {
   "cell_type": "markdown",
   "id": "4108ee0c-bc19-4885-aacd-f021a481adfa",
   "metadata": {
    "tags": []
   },
   "source": [
    "<details>\n",
    "    <summary>README.md Copy</summary>\n",
    "This is an exercise to walk through the Naive Bayes algorithm. You will be walked through the basics of Bayes Theorem under the assumption you have no prior knowledge. We will then introduce you to Naive Bayes as a machine learning algorithm. <br><br>\n",
    "\n",
    "You will be asked to implement the algorithm from scratch. Please avoid the use of scikit-learn or other machine learning libraries for the implementation of naive bayes - pandas, numpy, or similar libraries are what we expect to see for your Python implementation. It is acceptable to use scikit-learn libraries (or other libraries) for evaluating your algorithm's correctness.<br>\n",
    "\n",
    "Your notebook will be evaluated on the following:\n",
    "<ul>\n",
    "    <li>Correctness</li>\n",
    "    <li>Legibility</li>\n",
    "    <li>Documentation</li>\n",
    "</ul>\n",
    "<br>\n",
    "\n",
    "Please fork this repo and use the notebook within. When you have completed your notebook, present your submission by sharing your repo with us and sending us an email with a direct link. It is important that you demonstrate your ability to use GitHub as well as to complete the notebook assignment.<br>\n",
    "\n",
    "If you do not already have <a href=\"https://docs.anaconda.com/navigator/install/\">Anaconda Navigator</a> installed, you will need to do so. You can opt for a different setup of your python environment, but Anaconda is recommended for beginners. Anaconda comes by default with JupyterLab and JupyterNotebook both of which will allow you to open and edit the Python notebook. Anaconda includes a basic enviroment with the most used Python data science packages, but you may install additional packages to complete this excercise. You can search <a href=\"https://anaconda.org/\">https://anaconda.org</a> for terminal commands to install more packages or use the Anaconda GUI.<br>\n",
    "\n",
    "\n",
    "**While important, this assignment is not the sole candidate selection criteria.**  Please do not be discouraged if you are having difficulties understanding or implementing the assignment.  We are here to assist you with questions or concerns that come up while trying to complete it.  Do not hesitate to reach out to brooke.r.weborg@nasa.gov, meghan.bush@nasa.gov, and jeremiah.d.sims@nasa.gov <br>\n",
    "\n",
    "</details>"
   ]
  },
  {
   "cell_type": "markdown",
   "id": "0df06baf-e920-4848-b5a7-4eb4e3485aee",
   "metadata": {
    "tags": []
   },
   "source": [
    "## Bayes Theorem"
   ]
  },
  {
   "cell_type": "markdown",
   "id": "1d68f60c-2945-4e68-b2b6-05dcf8f2fce4",
   "metadata": {},
   "source": [
    "We will now do a brief introduction to the probability theory you need to understand to complete the notebook. A lot of this should be review, but in the case you may not have taken a probability and statistics class yet, the first half of this notebook will provide the information to understand what Bayes rule is before we ask you to code Naive Bayes. This section in not mandatory and can be skipped entirely."
   ]
  },
  {
   "cell_type": "markdown",
   "id": "6bdf6297-d0b5-4bbd-9fce-0c8c62b6c968",
   "metadata": {},
   "source": [
    "### Review of Probability Theory\n",
    "If you haven't taken an intro to statistics and probability class yet (or you need a refresher), and the following is very confusing for you, please check out this awesome and interactive reference from Brown University to get some foundational knowledge:<br>\n",
    "https://seeing-theory.brown.edu/basic-probability/index.html"
   ]
  },
  {
   "cell_type": "markdown",
   "id": "28a51b3f-45f4-4c4f-ab6c-c00fda41d749",
   "metadata": {},
   "source": [
    "### Conditional Probability"
   ]
  },
  {
   "cell_type": "markdown",
   "id": "0fc40794-9ba0-4da3-9a86-4d2c5e68b8d4",
   "metadata": {},
   "source": [
    "Conditional probability tells us that, given some condition, this is the probability of an event happening. We will use weather as an example. Given that <i>B</i> is the condition that it's cloudy outside and <i>A</i>, is the event of rain, conditional probability would then ask, what is the probability of rain, <i>A</i>, given that it's cloudy outside, <i>B</i>.\n",
    "\n",
    "Conditional probability looks at a subset of data that meets the condition. For our example, that's the set of data where it's cloudy outside on a given day. Then we can obtain that probability by counting the number of days where it rains and the total number of days it's cloudy (not necessarily rainy). Then our probability is the following:\n",
    "    \n",
    "$$\n",
    "P(Rain|Cloudy)=\\frac{\\text{Total number of rainy days that are also cloudy}}{\\text{Total number of cloudy days (may or may not be raining)}}\n",
    "$$"
   ]
  },
  {
   "cell_type": "markdown",
   "id": "a25ce493-e0dd-4dd7-afda-fa9889987c62",
   "metadata": {},
   "source": [
    "Mathematically, we can write this generically as follows:\n",
    "$$\n",
    "  P(A|B)=\\frac{P(A\\text{∩}B)}{P(B)} \\text{ if } P(B) > 0\n",
    "$$"
   ]
  },
  {
   "cell_type": "markdown",
   "id": "7f7f3be3-ccea-41be-b796-39d56aeaf82d",
   "metadata": {},
   "source": [
    "For an interactive example, check out this chapter from Brown University:<br>\n",
    "https://seeing-theory.brown.edu/compound-probability/index.html#section3"
   ]
  },
  {
   "cell_type": "markdown",
   "id": "9281dbdc-8284-4b27-952a-fc36e73347c6",
   "metadata": {},
   "source": [
    "### Law of Total Probability"
   ]
  },
  {
   "cell_type": "markdown",
   "id": "e65dadbf-ac5b-4bbe-a359-c8aef9cec4f4",
   "metadata": {},
   "source": [
    "Let's say we're looking for a total probability of an event, <i>P(A)</i>, but we only have probability of A given it's intersection with several other events, <i>P(A∩B)</i> and <i>P(A∩B<sup>C</sup>)</i>. The image below shows <i>P(A)</i> which we are trying to find."
   ]
  },
  {
   "attachments": {
    "0efe6815-c11c-4a5a-af52-e34d3d787245.png": {
     "image/png": "[encoded data removed]"
    }
   },
   "cell_type": "markdown",
   "id": "6ddf1af5-c7f4-4ace-8a17-461afb8eb6fb",
   "metadata": {},
   "source": [
    "![total-probability-rule.png](attachment:0efe6815-c11c-4a5a-af52-e34d3d787245.png)\n",
    "<i>https://www.statisticshowto.com/total-probability-rule/</i>"
   ]
  },
  {
   "cell_type": "markdown",
   "id": "e2b8af0b-c5f4-4025-958f-4dd673cc2a7a",
   "metadata": {},
   "source": [
    "The Law of Total Probability assists us in calculating <i>P(A)</i> in this situation. Given that we have all the intersections between <i>A</i> and <i>B<sub>i</sub></i> events, we can take the sum of those events:"
   ]
  },
  {
   "cell_type": "markdown",
   "id": "7bf7a475-8009-460a-a248-5c3a0f7ca55e",
   "metadata": {},
   "source": [
    "$$\n",
    "  P(A)= \\sum_{i} P(A\\text{∩}B_i)$$"
   ]
  },
  {
   "cell_type": "markdown",
   "id": "d6815431-7c0e-4733-907e-22942fd7befe",
   "metadata": {},
   "source": [
    "This rule can also be rewritten given the conditional probability. To remove the conditional, we need to multiply by the probability of the event. Looking back on the conditional probability formula, this should make sense to you.\n",
    "$$\n",
    "  P(A)= \\sum_{i} P(A\\text{∩}B_i)= \\sum_{i} P(A|B_i) P(B_i)\n",
    "$$"
   ]
  },
  {
   "cell_type": "markdown",
   "id": "510450d7-0eca-4915-a242-749d895e6a1a",
   "metadata": {},
   "source": [
    "### Bayes Rule"
   ]
  },
  {
   "cell_type": "markdown",
   "id": "050a3a37-ec99-4359-ab13-6ca8fdd6b742",
   "metadata": {},
   "source": [
    "Bayes Rule is a combination of the Law of Total Probability and Conditional Probability. In the simplist terms, Bayes Theorem answers the question, \"Given <i>this</i>, what is the probability of <i>this other thing</i> occuring?\" An example of this would be: given I have a fever, what is the probability I have covid? We represent it as follows:<br>\n",
    "$$\n",
    "P(Covid|Fever)=\\frac{P(Fever|Covid)P(Covid)}{P(Fever)}\n",
    "$$"
   ]
  },
  {
   "cell_type": "markdown",
   "id": "4dec43bb-8c1d-42dc-adb2-a0b5cb0510d1",
   "metadata": {},
   "source": [
    "More generally we can write Bayes Rule as follows:"
   ]
  },
  {
   "cell_type": "markdown",
   "id": "51d27252-36f7-46f9-86a3-ba6e37764fc3",
   "metadata": {},
   "source": [
    "$$\n",
    "  P(X=x|Y=y) = \\frac{P(X=x \\text{∩} Y=y)}{P(Y=y)}= \\frac{P(X=x)P(Y=y|X=x)}{\\sum_{x'} P(X=x')P(Y=y|X=x')}\n",
    "$$\n",
    "\n",
    "or\n",
    "\n",
    "$$\n",
    "P(A|B)=\\frac{P(B|A)P(A)}{P(B)}\n",
    "$$"
   ]
  },
  {
   "cell_type": "markdown",
   "id": "2699ba07-a979-45c2-9d58-c8fb5595067d",
   "metadata": {},
   "source": [
    "# Naive Bayes"
   ]
  },
  {
   "cell_type": "markdown",
   "id": "de83a9c0-1525-46db-a040-a71a99f85a21",
   "metadata": {},
   "source": [
    "**How does probability tie into machine learning?** Well, in practice, we rarely know any of the probabilities to do these calculations. What happens instead is we take a large sample of data and make approximations using supervised learning techniques. \n",
    "\n",
    "<b>Supervised learning</b> means we know the before and after, or, in other words, we know both our inputs into the algorithm as well as our outputs for learning.<br>\n",
    "\n",
    "We can use a generative modeling approach to approximate *P(A)* and *P(B|A)*, then follow up with Bayes rule to compute *P(A|B)*."
   ]
  },
  {
   "cell_type": "markdown",
   "id": "91516740-6c61-4954-9499-fd5825440bd1",
   "metadata": {},
   "source": [
    "## Example\n",
    "*This example was derived from Machine Learning an Algorithmic Perspective 2nd Edition by Stephen Marshland*\n",
    "\n",
    "Features/Inputs:\n",
    "$$\n",
    "\\newcommand\\mycolv[1]{\\begin{bmatrix}#1\\end{bmatrix}}\n",
    "x = \\mycolv{x_1\\\\.\\\\.\\\\.\\\\x_n}\n",
    "$$\n",
    "\n",
    "Targets/Labels: \n",
    "$$\n",
    "c = \\mycolv{c_1\\\\.\\\\.\\\\.\\\\c_n}\n",
    "$$\n",
    "\n",
    "Definitions:\n",
    "\n",
    "**Prior Probability P(c<sub>i</sub>)**: Probability of a class without seeing any data.\n",
    "\n",
    "**Class-Conditional Probability P(x|c<sub>i</sub>)**: Probability of data (features) given a class.\n",
    "\n",
    "**Posterior Probability P(c<sub>i</sub>|x)**: Probability of a class given features."
   ]
  },
  {
   "cell_type": "markdown",
   "id": "2772dd60-4325-476d-96cb-b6338258e5b5",
   "metadata": {},
   "source": [
    "### Predict what activity *c<sub>i</sub>* you will do given 3 features *x*.\n",
    "\n",
    "|Deadline?/x<sub>1</sub>|Is There a Party?/x<sub>2</sub>|Lazy?/x<sub>3</sub>|Activity/c|\n",
    "|---|---|---|---|\n",
    "|Urgent|Yes|Yes|Party|\n",
    "|Urgent|No|Yes|Study|\n",
    "|Near|Yes|Yes|Party|\n",
    "|None|Yes|No|Party|\n",
    "|None|No|Yes|Pub|\n",
    "|None|Yes|No|Party|\n",
    "|Near|No|No|Study|\n",
    "|Near|No|Yes|TV|\n",
    "|Near|Yes|Yes|Party|\n",
    "|Urgent|No|No|Study|\n",
    "\n",
    "To put this into perspective, our input vector, *x*, for a sample is a single row of data excluding the last column. The last column in the row is our label or class, *c*, for the sample. The first row contains the input:\n",
    "$$\n",
    "x = \\mycolv{x_1=Urgent\\\\x_2=Yes\\\\x_3=Yes}\n",
    "$$\n",
    "\n",
    "And the output:\n",
    "$$\n",
    "c = \\mycolv{Party}\n",
    "$$\n",
    "\n",
    "From the data above, we can collect the following probabilities:\n",
    "$$\n",
    "P(c=party)=\\frac{5}{10}\n",
    "$$\n",
    "\n",
    "$$\n",
    "P(c=study)=\\frac{3}{10}\n",
    "$$\n",
    "\n",
    "$$\n",
    "P(c=TV)=\\frac{1}{10}\n",
    "$$\n",
    "\n",
    "$$\n",
    "P(c=Pub)=\\frac{1}{10}\n",
    "$$\n",
    "\n",
    "Assume we only have the feature *x<sub>1</sub>* where c=party (5 total examples):\n",
    "\n",
    "|Urgent|Near|None|\n",
    "|---|---|---|\n",
    "|1|2|2|\n",
    "\n",
    "$$\n",
    "P(x_1=Urgent|c=Party)=\\frac{1}{5}\n",
    "$$\n",
    "\n",
    "$$\n",
    "P(x_1=Near|c=Party)=\\frac{2}{5}\n",
    "$$\n",
    "\n",
    "$$\n",
    "P(x_1=None|c=Party)=\\frac{2}{5}\n",
    "$$"
   ]
  },
  {
   "cell_type": "markdown",
   "id": "24dcb041-d6c2-4517-8aeb-1d66443084be",
   "metadata": {
    "tags": []
   },
   "source": [
    "#### *This section won't be reviewed and is just for you to practice this concept*\n",
    "\n",
    "**Repeat the above for each class c<sub>i</sub> to finish training classifier**\n",
    "<details>\n",
    "    <summary>Open Pratice</summary>\n",
    "$$\n",
    "P(x_1=Urgent|c=Study)=\\frac{}{}\n",
    "$$\n",
    "\n",
    "$$\n",
    "P(x_1=Near|c=Study)=\\frac{}{}\n",
    "$$\n",
    "\n",
    "$$\n",
    "P(x_1=None|c=Study)=\\frac{}{}\n",
    "$$\n",
    "\n",
    "$$\n",
    "P(x_1=Urgent|c=Pub)=\\frac{}{}\n",
    "$$\n",
    "\n",
    "$$\n",
    "P(x_1=Near|c=Pub)=\\frac{}{}\n",
    "$$\n",
    "\n",
    "$$\n",
    "P(x_1=None|c=Pub)=\\frac{}{}\n",
    "$$\n",
    "\n",
    "$$\n",
    "P(x_1=Urgent|c=TV)=\\frac{}{}\n",
    "$$\n",
    "\n",
    "$$\n",
    "P(x_1=Near|c=TV)=\\frac{}{}\n",
    "$$\n",
    "\n",
    "$$\n",
    "P(x_1=None|c=TV)=\\frac{}{}\n",
    "$$\n",
    "    </details>"
   ]
  },
  {
   "cell_type": "markdown",
   "id": "1ed025cb-db44-4c22-92b1-414f7752810f",
   "metadata": {
    "jp-MarkdownHeadingCollapsed": true,
    "tags": []
   },
   "source": [
    "#### *Making a Prediction*\n",
    "We can make a prediction on a new test example using our MAP rule which in this case is Bayes rule:\n",
    "$$\n",
    "P(c_i|x_1)=\\frac{P(x_1|c_i)P(c_i)}{P(x_1)}\n",
    "$$\n",
    "\n",
    "By law of total probability we can sub *P(x<sub>1</sub>)* for:\n",
    "$$\n",
    "P(c_i|x_1)=\\frac{P(x_1|c_i)P(c_i)}{\\sum_{j} P(x_1|c_j) P(c_j)}\n",
    "$$\n",
    "\n",
    "If you do the excercise above left for you, you can sub in those values to this equation to find any combination of P(c<sub>i</sub>=[Party,Study,TV,Pub] | x<sub>1</sub>=[Urgent,Near,None])\n",
    "\n",
    "Lets add in feature *x<sub>3</sub>* where c=party.\n",
    "\n",
    "| | |Urgent|Near|None|\n",
    "|---|---|---|---|---|\n",
    "|Lazy?|Yes|1|2|0|\n",
    "|Lazy?|No|0|0|2|\n",
    "\n",
    "Then we can obtain the following probabilities:\n",
    "$$\n",
    "P(x_1=Urgent, x_3=Yes|c=Party)=\\frac{1}{5}\n",
    "$$\n",
    "\n",
    "$$\n",
    "P(x_1=Urgent, x_3=No|c=Party)=0\n",
    "$$\n",
    "\n",
    "$$\n",
    "P(x_1=Near,x_3=Yes|c=Party)=\\frac{2}{5}\n",
    "$$\n",
    "\n",
    "$$\n",
    "P(x_1=Near,x_3=No|c=Party)=0\n",
    "$$\n",
    "\n",
    "$$\n",
    "P(x_1=None, x_3=Yes|c=Party)=0\n",
    "$$\n",
    "\n",
    "$$\n",
    "P(x_1=None, x_3=No|c=Party)=\\frac{2}{5}\n",
    "$$\n",
    "\n",
    "Note that as the number of features increases, so does the number of empty bins above. If we had more training data, some of these bins may become greater than 0. If we have *d* features, we have ~2<sup>d</sup> bins.\n",
    "    \n",
    "However, to have all non-zero bins (best case) our training data must grow exponentially with *d*. It's impossible to obtain this much data for a large amount of features so **machine learning algorithms make assumptions about the probabilities or data structure in order to require less training data.**"
   ]
  },
  {
   "cell_type": "markdown",
   "id": "67ceb28c-59ca-4d7c-b3eb-91a24b9fc2bc",
   "metadata": {},
   "source": [
    "## Naive Bayes Classifier"
   ]
  },
  {
   "cell_type": "markdown",
   "id": "ffbbaaa4-7cde-416a-a0c8-9863a3e0fad4",
   "metadata": {},
   "source": [
    "For the Naive Bayes machine learning classifier, **we make the assumption that features are conditionally *independent* given a class**. This obviously isn't true, as there are many real world examples where features are dependent on one another, but making this assumption simplifies the algorithm and gets us really close. This is our original model (dependent):\n",
    "$$\n",
    "P(x_j|c_i)=P(x^1_j,x^2_j,...,x^d_j|c_i)P(c_i)\n",
    "$$\n",
    "And this is our Naive Bayes Assumption (independent):\n",
    "$$\n",
    "P(x_j|c_i)=P(x^1_j|c_i)P(x^2_j|c_i)...P(x^d_j|c_i)\n",
    "$$\n",
    "\n",
    "In turn, our MAP rule becomes:\n",
    "$$\n",
    "P(c_i|x_j)=\\frac{P(x_j|c_i)P(c_i)}{P(x_j)}\\\\\n",
    "\\alpha P(x_j|c_i)P(c_i)\\\\\n",
    "=P(c_i)\\prod^d_{k=1}P(x^k_j|c_i)\n",
    "$$"
   ]
  },
  {
   "cell_type": "markdown",
   "id": "0cea9b3c-8cc8-4059-aef8-7fcdccaeec25",
   "metadata": {},
   "source": [
    "# EXCERCISE\n",
    "This begins your official interview exercise. Please do your best to fill in and complete this section. There will be some basics introduced here under the assumption you've never used these libraries."
   ]
  },
  {
   "cell_type": "code",
   "execution_count": 160,
   "id": "fa5e90b1-a13a-4837-b13c-daf1950ff9e6",
   "metadata": {},
   "outputs": [],
   "source": [
    "import numpy as np\n",
    "import math"
   ]
  },
  {
   "cell_type": "markdown",
   "id": "eda31bf5-f362-4e72-a829-61d9dabcd3dd",
   "metadata": {},
   "source": [
    "##### 1) Make an array *a* using numpy of size 8x5 where every element is 2"
   ]
  },
  {
   "cell_type": "code",
   "execution_count": 161,
   "id": "627bfef8-2706-400f-99ce-bed0a0f7da35",
   "metadata": {},
   "outputs": [],
   "source": [
    "#Your code here"
   ]
  },
  {
   "cell_type": "code",
   "execution_count": 162,
   "id": "44a2a4fa-c0a5-4b2f-80d1-3201f57601fe",
   "metadata": {},
   "outputs": [
    {
     "data": {
      "text/plain": [
       "array([[2., 2., 2., 2., 2.],\n",
       "       [2., 2., 2., 2., 2.],\n",
       "       [2., 2., 2., 2., 2.],\n",
       "       [2., 2., 2., 2., 2.],\n",
       "       [2., 2., 2., 2., 2.],\n",
       "       [2., 2., 2., 2., 2.],\n",
       "       [2., 2., 2., 2., 2.],\n",
       "       [2., 2., 2., 2., 2.]])"
      ]
     },
     "execution_count": 162,
     "metadata": {},
     "output_type": "execute_result"
    }
   ],
   "source": [
    "a = np.full((8, 5), 2.0)\n",
    "a"
   ]
  },
  {
   "cell_type": "markdown",
   "id": "40f723ed-516e-44f6-a04d-5bb7becb2d01",
   "metadata": {},
   "source": [
    "##### 2) Make an array *b* of size 8x5 that has 4 on the leading diagonal and 1 everywhere else."
   ]
  },
  {
   "cell_type": "code",
   "execution_count": 163,
   "id": "4fe7502a-f229-4dfa-b042-c3a7caf0462d",
   "metadata": {},
   "outputs": [],
   "source": [
    "#Your code here"
   ]
  },
  {
   "cell_type": "code",
   "execution_count": 164,
   "id": "8f31b165-c0d5-48f2-92d5-f7b7794b083c",
   "metadata": {},
   "outputs": [
    {
     "data": {
      "text/plain": [
       "array([[4., 1., 1., 1., 1.],\n",
       "       [1., 4., 1., 1., 1.],\n",
       "       [1., 1., 4., 1., 1.],\n",
       "       [1., 1., 1., 4., 1.],\n",
       "       [1., 1., 1., 1., 4.],\n",
       "       [1., 1., 1., 1., 1.],\n",
       "       [1., 1., 1., 1., 1.],\n",
       "       [1., 1., 1., 1., 1.]])"
      ]
     },
     "execution_count": 164,
     "metadata": {},
     "output_type": "execute_result"
    }
   ],
   "source": [
    "# Create an 8x5 array\n",
    "b = np.ones((8, 5))\n",
    "\n",
    "# Set the diagonal elements to 4\n",
    "np.fill_diagonal(b, 4.0)\n",
    "\n",
    "b"
   ]
  },
  {
   "cell_type": "markdown",
   "id": "bdfc7e71-756d-4cae-86f0-99283b776be5",
   "metadata": {},
   "source": [
    "##### 3) Can you multiply these two matrices together? Why does a*b work, but not dot(a,b)?"
   ]
  },
  {
   "cell_type": "code",
   "execution_count": 165,
   "id": "0b97a8eb-50b1-4faa-bc42-57c6be0ab18f",
   "metadata": {},
   "outputs": [
    {
     "data": {
      "text/plain": [
       "array([[8., 2., 2., 2., 2.],\n",
       "       [2., 8., 2., 2., 2.],\n",
       "       [2., 2., 8., 2., 2.],\n",
       "       [2., 2., 2., 8., 2.],\n",
       "       [2., 2., 2., 2., 8.],\n",
       "       [2., 2., 2., 2., 2.],\n",
       "       [2., 2., 2., 2., 2.],\n",
       "       [2., 2., 2., 2., 2.]])"
      ]
     },
     "execution_count": 165,
     "metadata": {},
     "output_type": "execute_result"
    }
   ],
   "source": [
    "#Your code here\n",
    "a*b"
   ]
  },
  {
   "cell_type": "code",
   "execution_count": 166,
   "id": "b32bd9d9-f702-47d4-91af-eca08b10953a",
   "metadata": {
    "scrolled": true
   },
   "outputs": [],
   "source": [
    "#Your code here\n",
    "# the error says that dot(a,b) does not work because \"dot\" is undefined\n",
    "# Using the * operator, each element gets multiplied \n",
    "# For the dor product to work, the number of columns in the first matrix would have to be equal to the number of rows in the second one, and this is not the case."
   ]
  },
  {
   "cell_type": "markdown",
   "id": "8224366e-3991-456e-bce6-f9de72758202",
   "metadata": {},
   "source": [
    "*Write your explanation here*\n",
    "<br>The error says that dot(a,b) does not work because \"dot\" is undefined\n",
    "Using the * operator, each element gets multiplied \n",
    "For the dor product to work, the number of columns in the first matrix would have to be equal to the number of rows in the second one, and this is not the case.<br>"
   ]
  },
  {
   "cell_type": "markdown",
   "id": "7027e8c2-2f01-463b-8a66-4100192e602b",
   "metadata": {},
   "source": [
    "##### 4) Your first step in machine learning is to read in the data which you would like to train your classifier. We've provided this dataset in the repo, *dataset.csv*. Bring this data into the notebook and store it as a numpy matrix using pandas to read in the data. <a href=\"https://pandas.pydata.org/docs/reference/api/pandas.read_csv.html\">read_csv</a> method."
   ]
  },
  {
   "cell_type": "code",
   "execution_count": 489,
   "id": "b59a4dfb-1920-4b81-a653-1322854ddfe6",
   "metadata": {},
   "outputs": [
    {
     "name": "stdout",
     "output_type": "stream",
     "text": [
      "               0            1            2            3  4\n",
      "1    0.816094267  0.533600097  0.219717687  0.031388241  0\n",
      "2    0.823072178  0.514420111  0.240062718  0.017147337  0\n",
      "3    0.807795685  0.538530457  0.237586966  0.031678262  0\n",
      "4    0.860938573  0.440035271  0.248715588  0.057395905  0\n",
      "5    0.798370248  0.557352815  0.225953844  0.030127179  0\n",
      "..           ...          ...          ...          ... ..\n",
      "120  0.713665574  0.283510981  0.615903166  0.175972333  2\n",
      "121  0.727851954  0.328707334  0.563498287  0.211311858  2\n",
      "122  0.714141252  0.266470616   0.61821183  0.191858844  2\n",
      "123  0.690259159  0.350979233  0.596664696   0.21058754  2\n",
      "124  0.691935021   0.32561648  0.600355386  0.234036845  2\n",
      "\n",
      "[124 rows x 5 columns]\n"
     ]
    }
   ],
   "source": [
    "import pandas as pd\n",
    "#Your code here\n",
    "\n",
    "#read CSV file into a pandas DataFrame\n",
    "df = pd.read_csv('dataset.csv', sep=',', header=None)\n",
    "\n",
    "\n",
    "#get rid of the string names that will be an issue\n",
    "df = df[1:]\n",
    "print(df)\n",
    "\n",
    "#convert df to a numpy matrix\n",
    "df_matrix = df.values"
   ]
  },
  {
   "cell_type": "markdown",
   "id": "4f7b8bb9-faf5-44fc-bc5c-c5cfba623f64",
   "metadata": {
    "tags": []
   },
   "source": [
    "Before you move on, you may want to preview your dataset to see what you're working with. You'll want to use numpy for your dataset manipulation but pandas has a cleaner print function. Try using it to preview your dataset."
   ]
  },
  {
   "cell_type": "code",
   "execution_count": 490,
   "id": "23f035c4-1a27-4b0a-81a3-891a589659df",
   "metadata": {},
   "outputs": [
    {
     "data": {
      "text/html": [
       "<div>\n",
       "<style scoped>\n",
       "    .dataframe tbody tr th:only-of-type {\n",
       "        vertical-align: middle;\n",
       "    }\n",
       "\n",
       "    .dataframe tbody tr th {\n",
       "        vertical-align: top;\n",
       "    }\n",
       "\n",
       "    .dataframe thead th {\n",
       "        text-align: right;\n",
       "    }\n",
       "</style>\n",
       "<table border=\"1\" class=\"dataframe\">\n",
       "  <thead>\n",
       "    <tr style=\"text-align: right;\">\n",
       "      <th></th>\n",
       "      <th>0</th>\n",
       "      <th>1</th>\n",
       "      <th>2</th>\n",
       "      <th>3</th>\n",
       "      <th>4</th>\n",
       "    </tr>\n",
       "  </thead>\n",
       "  <tbody>\n",
       "    <tr>\n",
       "      <th>1</th>\n",
       "      <td>0.816094267</td>\n",
       "      <td>0.533600097</td>\n",
       "      <td>0.219717687</td>\n",
       "      <td>0.031388241</td>\n",
       "      <td>0</td>\n",
       "    </tr>\n",
       "    <tr>\n",
       "      <th>2</th>\n",
       "      <td>0.823072178</td>\n",
       "      <td>0.514420111</td>\n",
       "      <td>0.240062718</td>\n",
       "      <td>0.017147337</td>\n",
       "      <td>0</td>\n",
       "    </tr>\n",
       "    <tr>\n",
       "      <th>3</th>\n",
       "      <td>0.807795685</td>\n",
       "      <td>0.538530457</td>\n",
       "      <td>0.237586966</td>\n",
       "      <td>0.031678262</td>\n",
       "      <td>0</td>\n",
       "    </tr>\n",
       "    <tr>\n",
       "      <th>4</th>\n",
       "      <td>0.860938573</td>\n",
       "      <td>0.440035271</td>\n",
       "      <td>0.248715588</td>\n",
       "      <td>0.057395905</td>\n",
       "      <td>0</td>\n",
       "    </tr>\n",
       "    <tr>\n",
       "      <th>5</th>\n",
       "      <td>0.798370248</td>\n",
       "      <td>0.557352815</td>\n",
       "      <td>0.225953844</td>\n",
       "      <td>0.030127179</td>\n",
       "      <td>0</td>\n",
       "    </tr>\n",
       "    <tr>\n",
       "      <th>6</th>\n",
       "      <td>0.808465844</td>\n",
       "      <td>0.522134191</td>\n",
       "      <td>0.269488615</td>\n",
       "      <td>0.033686077</td>\n",
       "      <td>0</td>\n",
       "    </tr>\n",
       "    <tr>\n",
       "      <th>7</th>\n",
       "      <td>0.805977915</td>\n",
       "      <td>0.521515122</td>\n",
       "      <td>0.268659305</td>\n",
       "      <td>0.079017443</td>\n",
       "      <td>0</td>\n",
       "    </tr>\n",
       "    <tr>\n",
       "      <th>8</th>\n",
       "      <td>0.766938972</td>\n",
       "      <td>0.571444724</td>\n",
       "      <td>0.285722362</td>\n",
       "      <td>0.060152076</td>\n",
       "      <td>0</td>\n",
       "    </tr>\n",
       "    <tr>\n",
       "      <th>9</th>\n",
       "      <td>0.825122952</td>\n",
       "      <td>0.52807869</td>\n",
       "      <td>0.198029509</td>\n",
       "      <td>0.033004918</td>\n",
       "      <td>0</td>\n",
       "    </tr>\n",
       "    <tr>\n",
       "      <th>10</th>\n",
       "      <td>0.790964996</td>\n",
       "      <td>0.569494797</td>\n",
       "      <td>0.221470199</td>\n",
       "      <td>0.0316386</td>\n",
       "      <td>0</td>\n",
       "    </tr>\n",
       "  </tbody>\n",
       "</table>\n",
       "</div>"
      ],
      "text/plain": [
       "              0            1            2            3  4\n",
       "1   0.816094267  0.533600097  0.219717687  0.031388241  0\n",
       "2   0.823072178  0.514420111  0.240062718  0.017147337  0\n",
       "3   0.807795685  0.538530457  0.237586966  0.031678262  0\n",
       "4   0.860938573  0.440035271  0.248715588  0.057395905  0\n",
       "5   0.798370248  0.557352815  0.225953844  0.030127179  0\n",
       "6   0.808465844  0.522134191  0.269488615  0.033686077  0\n",
       "7   0.805977915  0.521515122  0.268659305  0.079017443  0\n",
       "8   0.766938972  0.571444724  0.285722362  0.060152076  0\n",
       "9   0.825122952   0.52807869  0.198029509  0.033004918  0\n",
       "10  0.790964996  0.569494797  0.221470199    0.0316386  0"
      ]
     },
     "execution_count": 490,
     "metadata": {},
     "output_type": "execute_result"
    }
   ],
   "source": [
    "df.head(10) #df is the variable name I used when I read in my data with pandas. Replace it with your pandas dataframe variable name."
   ]
  },
  {
   "cell_type": "markdown",
   "id": "f0a2d9d8-e81a-4444-b9f2-d2e7c83ecb79",
   "metadata": {},
   "source": [
    "##### 5) Next, the data needs shuffled. Shuffling the data helps reduce bias when training. We don't want to have our training set missing any labels! Use numpy to shuffle the rows within the dataset."
   ]
  },
  {
   "cell_type": "code",
   "execution_count": 491,
   "id": "f82b8746-6a31-47ff-83d2-e6b0c7e32098",
   "metadata": {},
   "outputs": [],
   "source": [
    "np.random.seed() \n",
    "#good practice to seed before shuffling so that when you come back to work on your problem, \n",
    "#you get the same consistent shuffle the next time. Otherwise, if you close the notebook and go to rerun later,\n",
    "#you won't get the same results. When we are trying to generalize the model, we want our data to be mixed\n",
    "#but consistent too otherwise you will have leaking between your training and test which isn't good for finding a good generalized model\n",
    "\n",
    "#Your code here\n",
    "np.random.shuffle(df_matrix)"
   ]
  },
  {
   "cell_type": "markdown",
   "id": "812bb797-98ca-4cb2-8fed-e5a163b3c724",
   "metadata": {
    "tags": []
   },
   "source": [
    "##### 6) We need to split the dataset into a training and test set. The training data is what you will give to the classifier for it to learn from. The test set inputs will then be driven into the trained classifier so we can compare the results that the classifier gives to the actual output labels. Create a numpy array *training* and *test* where *training* contains 80% of the dataset and *test* contains 20% of the dataset."
   ]
  },
  {
   "cell_type": "code",
   "execution_count": 492,
   "id": "c031a512-d3bb-4552-90aa-add4ef0c8ca6",
   "metadata": {},
   "outputs": [
    {
     "name": "stdout",
     "output_type": "stream",
     "text": [
      "Shape of training_features: (100, 1)\n",
      "Shape of test_labels: (24, 1)\n"
     ]
    }
   ],
   "source": [
    "#Your code here\n",
    "from sklearn.model_selection import train_test_split\n",
    "\n",
    "X = df_matrix[:, :-1]  #all columns excluding the last one (to be used for output)\n",
    "y = df_matrix[:, -1]   #last output labels column\n",
    "\n",
    "#split data into training (80%) and test (20%) sets\n",
    "training_set_size = 0.81\n",
    "training_features, test_features, training_labels, test_labels = train_test_split(X, y, test_size=1 - training_set_size, random_state=42) #will be 20% for test/ validation set\n",
    "\n",
    "#dimensions (100, 1) and (24, 1)\n",
    "training_labels = training_labels.reshape(-1, 1)\n",
    "test_labels = test_labels.reshape(-1, 1)\n",
    "\n",
    "#training and test sets converted to numpy arrays\n",
    "\n",
    "#lastly, check the shape of test to make sure we didn't lose any data (total between train and test should be 124)\n",
    "print(f\"Shape of training_features: {training_labels.shape}\")\n",
    "print(f\"Shape of test_labels: {test_labels.shape}\")"
   ]
  },
  {
   "cell_type": "markdown",
   "id": "ceda236d-f06f-4e46-92db-70f69c2e7699",
   "metadata": {},
   "source": [
    "The dataset here contains features in the first 4 columns (0 through 3, inclusive). \n",
    "\n",
    "In the very last column is our class labels, [0,1,2]. Since we've obscured the dataset before giving it to you, you can give these any context you'd like. For instance, 0 could identify the color red, 1 could identify the color blue, and 2 could identify the color green; we've just given the real label a numerical representation that can be mapped back at a later time. \n",
    "\n",
    "This same logic also applies to the feature columns which were transformed using a method called normalization. Normalizing the data makes the scale more uniform and generally makes machine learning algorithms perform better.\n",
    "\n",
    "##### 7) Both the *training* data and *test* data need split column wise such that we have four numpy arrays, *training_features*, *training_labels*, *test_features*, and *test_labels*. This is done so that we can feed the algorithm the inputs (features) and outputs (labels, the thing we can to guess) separately. \n",
    "*Hint: Make sure your training and test label arrays have dimensions (100,1) and (24,1)*"
   ]
  },
  {
   "cell_type": "code",
   "execution_count": 493,
   "id": "1d2ce0ab-90da-4880-8593-a74e153b4f33",
   "metadata": {
    "scrolled": true
   },
   "outputs": [
    {
     "name": "stdout",
     "output_type": "stream",
     "text": [
      "(100, 4)\n",
      "(100, 1)\n",
      "(24, 4)\n",
      "(24, 1)\n",
      "[['0.825122952' '0.52807869' '0.198029509' '0.033004918']\n",
      " ['0.733378862' '0.329489054' '0.542062637' '0.244459621']\n",
      " ['0.686190218' '0.316703178' '0.61229281' '0.232248997']\n",
      " ['0.764672695' '0.314865227' '0.539768961' '0.157432614']\n",
      " ['0.73081412' '0.347436221' '0.563086289' '0.167727831']\n",
      " ['0.802184919' '0.545485745' '0.240655476' '0.032087397']\n",
      " ['0.798370248' '0.557352815' '0.225953844' '0.030127179']\n",
      " ['0.758175397' '0.326598632' '0.536554896' '0.174963553']\n",
      " ['0.715249355' '0.405307968' '0.536437016' '0.190733161']\n",
      " ['0.806419649' '0.542782456' '0.232621053' '0.03101614']\n",
      " ['0.802512599' '0.559892511' '0.205293921' '0.018663084']\n",
      " ['0.782580542' '0.383617913' '0.460341495' '0.168791882']\n",
      " ['0.770118538' '0.353497034' '0.504995763' '0.164123623']\n",
      " ['0.775770746' '0.607124932' '0.168645814' '0.033729163']\n",
      " ['0.767857255' '0.349026025' '0.511904837' '0.162878812']\n",
      " ['0.715626447' '0.352308405' '0.56149152' '0.220192753']\n",
      " ['0.754573406' '0.349130979' '0.529327613' '0.168934345']\n",
      " ['0.692990991' '0.341995554' '0.602992161' '0.197997426']\n",
      " ['0.653877471' '0.342507247' '0.622740449' '0.259475187']\n",
      " ['0.761851879' '0.340112446' '0.530575416' '0.149649476']\n",
      " ['0.745497566' '0.372748783' '0.524177976' '0.174725992']\n",
      " ['0.694177465' '0.303702641' '0.607405282' '0.238623504']\n",
      " ['0.769868795' '0.354139646' '0.508113405' '0.153973759']\n",
      " ['0.732603915' '0.360297007' '0.552455411' '0.168138603']\n",
      " ['0.806828203' '0.537885469' '0.240632973' '0.042464642']\n",
      " ['0.715294533' '0.317908681' '0.596078778' '0.178823633']\n",
      " ['0.828132873' '0.507020127' '0.236609392' '0.033801342']\n",
      " ['0.717181481' '0.316403595' '0.580073257' '0.221482516']\n",
      " ['0.714865428' '0.259951065' '0.622025762' '0.185679332']\n",
      " ['0.777290927' '0.579157945' '0.243855977' '0.030481997']\n",
      " ['0.817337897' '0.514620157' '0.257310079' '0.030271774']\n",
      " ['0.690259159' '0.350979233' '0.596664696' '0.21058754']\n",
      " ['0.727125848' '0.266612811' '0.605938207' '0.181781462']\n",
      " ['0.795947821' '0.553702832' '0.242244989' '0.034606427']\n",
      " ['0.736598949' '0.338110993' '0.567543452' '0.144904711']\n",
      " ['0.723660047' '0.321626687' '0.585820038' '0.172300011']\n",
      " ['0.683079229' '0.341539614' '0.597694325' '0.243956867']\n",
      " ['0.780109356' '0.576602567' '0.237424587' '0.050876697']\n",
      " ['0.734460466' '0.373672869' '0.541181396' '0.167508527']\n",
      " ['0.716538987' '0.330710302' '0.57323119' '0.220473534']\n",
      " ['0.706318918' '0.378385135' '0.567577702' '0.189192567']\n",
      " ['0.705589343' '0.32722984' '0.582878153' '0.235196448']\n",
      " ['0.729924428' '0.391030944' '0.534408956' '0.169446742']\n",
      " ['0.727661593' '0.275331414' '0.599829151' '0.186832031']\n",
      " ['0.764442378' '0.271253747' '0.55483721' '0.184945737']\n",
      " ['0.794289441' '0.573653485' '0.191217828' '0.058836255']\n",
      " ['0.727851954' '0.328707334' '0.563498287' '0.211311858']\n",
      " ['0.776114' '0.549747417' '0.307211792' '0.032338083']\n",
      " ['0.765218549' '0.333913548' '0.528696452' '0.15304371']\n",
      " ['0.695956011' '0.342784304' '0.592081979' '0.218135466']\n",
      " ['0.715789988' '0.344304045' '0.579880497' '0.181212655']\n",
      " ['0.692767962' '0.318893189' '0.615793744' '0.197933703']\n",
      " ['0.826997544' '0.526271164' '0.195472147' '0.030072638']\n",
      " ['0.710669055' '0.355334527' '0.568535244' '0.213200716']\n",
      " ['0.769454445' '0.356016236' '0.505313367' '0.160781526']\n",
      " ['0.797782058' '0.542491799' '0.255290259' '0.063822565']\n",
      " ['0.822250281' '0.51771314' '0.228402856' '0.060907428']\n",
      " ['0.743148202' '0.365055257' '0.534545198' '0.169489941']\n",
      " ['0.690525124' '0.321451351' '0.607185885' '0.226206506']\n",
      " ['0.739234616' '0.375882008' '0.526234812' '0.187941004']\n",
      " ['0.695898874' '0.347949437' '0.576291255' '0.250088658']\n",
      " ['0.806423656' '0.531506501' '0.256589345' '0.036655621']\n",
      " ['0.724602335' '0.376235828' '0.543451751' '0.195085244']\n",
      " ['0.714141252' '0.266470616' '0.61821183' '0.191858844']\n",
      " ['0.784174986' '0.566348601' '0.246869903' '0.058087036']\n",
      " ['0.693334094' '0.385185608' '0.577778412' '0.192592804']\n",
      " ['0.788927525' '0.289273426' '0.525951683' '0.131487921']\n",
      " ['0.860938573' '0.440035271' '0.248715588' '0.057395905']\n",
      " ['0.71491405' '0.302076359' '0.594083506' '0.211453451']\n",
      " ['0.803772773' '0.551608766' '0.220643506' '0.031520501']\n",
      " ['0.690525124' '0.321451351' '0.607185885' '0.226206506']\n",
      " ['0.756764973' '0.352287143' '0.53495455' '0.130476719']\n",
      " ['0.753849162' '0.315246013' '0.548253936' '0.178182529']\n",
      " ['0.670541176' '0.342112845' '0.61580312' '0.232636734']\n",
      " ['0.766938972' '0.571444724' '0.285722362' '0.060152076']\n",
      " ['0.816094267' '0.533600097' '0.219717687' '0.031388241']\n",
      " ['0.826474506' '0.495884704' '0.264471842' '0.03305898']\n",
      " ['0.802124133' '0.546902818' '0.236991221' '0.036460188']\n",
      " ['0.767011029' '0.350633613' '0.51499312' '0.153402206']\n",
      " ['0.805333075' '0.548311881' '0.222751702' '0.034269493']\n",
      " ['0.732396177' '0.385471672' '0.539660341' '0.154188669']\n",
      " ['0.790964996' '0.569494797' '0.221470199' '0.0316386']\n",
      " ['0.691935021' '0.32561648' '0.600355386' '0.234036845']\n",
      " ['0.670174844' '0.361681662' '0.595710972' '0.255304702']\n",
      " ['0.735442835' '0.35458851' '0.551582127' '0.170727801']\n",
      " ['0.691987875' '0.345993938' '0.586267506' '0.240273568']\n",
      " ['0.763018528' '0.335265717' '0.531800792' '0.150291528']\n",
      " ['0.822105847' '0.513816154' '0.239780872' '0.051381615']\n",
      " ['0.778674473' '0.594624143' '0.198208048' '0.028315435']\n",
      " ['0.689148708' '0.339431453' '0.586290692' '0.25714504']\n",
      " ['0.70779525' '0.318507863' '0.601625963' '0.1887454']\n",
      " ['0.731224643' '0.31338199' '0.568730278' '0.208921327']\n",
      " ['0.731543985' '0.285017137' '0.579534846' '0.218513138']\n",
      " ['0.723371185' '0.341957287' '0.578696948' '0.15782644']\n",
      " ['0.808465844' '0.522134191' '0.269488615' '0.033686077']\n",
      " ['0.70610474' '0.325894495' '0.597473241' '0.195536697']\n",
      " ['0.722329618' '0.354828584' '0.570260225' '0.164741843']\n",
      " ['0.823072178' '0.514420111' '0.240062718' '0.017147337']\n",
      " ['0.730898554' '0.304541064' '0.58877939' '0.162421901']\n",
      " ['0.77381111' '0.597327875' '0.203634503' '0.054302534']]\n",
      "[['0.709537079' '0.280080426' '0.616176937' '0.196056298']\n",
      " ['0.811208646' '0.559454239' '0.167836272' '0.027972712']\n",
      " ['0.785232211' '0.576905298' '0.22435206' '0.016025147']\n",
      " ['0.733509487' '0.354529586' '0.550132115' '0.183377372']\n",
      " ['0.76262994' '0.341868594' '0.525951683' '0.157785505']\n",
      " ['0.695940016' '0.304473757' '0.608947514' '0.228355318']\n",
      " ['0.711712139' '0.350022363' '0.571703193' '0.210013418']\n",
      " ['0.805977915' '0.521515122' '0.268659305' '0.079017443']\n",
      " ['0.812283631' '0.536107197' '0.227439417' '0.032491345']\n",
      " ['0.759117072' '0.393114198' '0.488003832' '0.176223606']\n",
      " ['0.693854136' '0.295741107' '0.636980846' '0.159245212']\n",
      " ['0.69804799' '0.338116995' '0.599884992' '0.196325997']\n",
      " ['0.807795685' '0.538530457' '0.237586966' '0.031678262']\n",
      " ['0.803735188' '0.550707444' '0.223259774' '0.02976797']\n",
      " ['0.765783108' '0.603790528' '0.220898974' '0.014726598']\n",
      " ['0.713665574' '0.283510981' '0.615903166' '0.175972333']\n",
      " ['0.803274124' '0.551266555' '0.220506622' '0.047251419']\n",
      " ['0.786090376' '0.571702091' '0.232253975' '0.035731381']\n",
      " ['0.772429248' '0.337060035' '0.519634221' '0.140441681']\n",
      " ['0.786991003' '0.55745196' '0.262330334' '0.032791292']\n",
      " ['0.740885763' '0.331739894' '0.552899823' '0.18798594']\n",
      " ['0.747141937' '0.339609971' '0.543375954' '0.176597185']\n",
      " ['0.800030247' '0.539150819' '0.260879429' '0.034783924']\n",
      " ['0.764349812' '0.355818016' '0.513959357' '0.15814134']]\n"
     ]
    }
   ],
   "source": [
    "#Your code here\n",
    "training_features\n",
    "training_labels\n",
    "test_features\n",
    "test_labels\n",
    "\n",
    "#Check dimensions (For math things later)\n",
    "print(training_features.shape)\n",
    "print(training_labels.shape)\n",
    "print(test_features.shape)\n",
    "print(test_labels.shape)\n",
    "\n",
    "print(training_features)\n",
    "print(test_features)"
   ]
  },
  {
   "cell_type": "code",
   "execution_count": 479,
   "id": "1a52df3a-aa68-410d-bf9f-d30b44484fe0",
   "metadata": {},
   "outputs": [
    {
     "name": "stdout",
     "output_type": "stream",
     "text": [
      "Mean value of feature_0 for training: 0.750067139\n",
      "Mean value of feature_1 for training: 0.404978685\n",
      "Mean value of feature_2 for training: 0.457497079\n",
      "Mean value of feature_3 for training: 0.140747211\n",
      "Mean value of feature_0 for testing: 0.759955938\n",
      "Mean value of feature_1 for testing: 0.425796490\n",
      "Mean value of feature_2 for testing: 0.422076621\n",
      "Mean value of feature_3 for testing: 0.123174639\n"
     ]
    }
   ],
   "source": [
    "#TRAINING FEATURES\n",
    "#convert array of strings to a numeric NumPy array\n",
    "numeric_array_train = np.array(training_features, dtype=float)\n",
    "\n",
    "#mean of feature_0\n",
    "mean_feature_0 = np.mean(numeric_array_train[:, 0])\n",
    "\n",
    "#mean of feature_1\n",
    "mean_feature_1 = np.mean(numeric_array_train[:, 1])\n",
    "\n",
    "#mean of feature_2\n",
    "mean_feature_2 = np.mean(numeric_array_train[:, 2])\n",
    "\n",
    "#mean of feature_3\n",
    "mean_feature_3 = np.mean(numeric_array_train[:, 3])\n",
    "\n",
    "print(f\"Mean value of feature_0 for training: {mean_feature_0:.9f}\")\n",
    "print(f\"Mean value of feature_1 for training: {mean_feature_1:.9f}\")\n",
    "print(f\"Mean value of feature_2 for training: {mean_feature_2:.9f}\")\n",
    "print(f\"Mean value of feature_3 for training: {mean_feature_3:.9f}\")\n",
    "\n",
    "\n",
    "#TEST FEATURES\n",
    "#convert array of strings to a numeric NumPy array\n",
    "numeric_array_test = np.array(test_features, dtype=float)\n",
    "\n",
    "#mean of feature_0\n",
    "mean_feature_0_test = np.mean(numeric_array_test[:, 0])\n",
    "\n",
    "#mean of feature_1\n",
    "mean_feature_1_test = np.mean(numeric_array_test[:, 1])\n",
    "\n",
    "#mean of feature_2\n",
    "mean_feature_2_test = np.mean(numeric_array_test[:, 2])\n",
    "\n",
    "#mean of feature_3\n",
    "mean_feature_3_test = np.mean(numeric_array_test[:, 3])\n",
    "\n",
    "print(f\"Mean value of feature_0 for testing: {mean_feature_0_test:.9f}\")\n",
    "print(f\"Mean value of feature_1 for testing: {mean_feature_1_test:.9f}\")\n",
    "print(f\"Mean value of feature_2 for testing: {mean_feature_2_test:.9f}\")\n",
    "print(f\"Mean value of feature_3 for testing: {mean_feature_3_test:.9f}\")"
   ]
  },
  {
   "cell_type": "code",
   "execution_count": 494,
   "id": "ab175808-9d4b-49fb-9183-ad5142bc537f",
   "metadata": {},
   "outputs": [
    {
     "name": "stdout",
     "output_type": "stream",
     "text": [
      "Std value of feature_0 for training: 0.044652818\n",
      "Std value of feature_1 for training: 0.103595351\n",
      "Std value of feature_2 for training: 0.159692046\n",
      "Std value of feature_3 for training: 0.077786735\n",
      "Std value of feature_0 for testing: 0.044042283\n",
      "Std value of feature_1 for testing: 0.110046404\n",
      "Std value of feature_2 for testing: 0.168369200\n",
      "Std value of feature_3 for testing: 0.073793872\n"
     ]
    }
   ],
   "source": [
    "#TRAINING\n",
    "#std for training data columns\n",
    "\n",
    "#std of feature_0\n",
    "std_0_training = np.std(numeric_array_train[:, 0])\n",
    "\n",
    "#std of feature_1\n",
    "std_1_training = np.std(numeric_array_train[:, 1])\n",
    "\n",
    "#std of feature_2\n",
    "std_2_training = np.std(numeric_array_train[:, 2])\n",
    "\n",
    "#std of feature_3\n",
    "std_3_training = np.std(numeric_array_train[:, 3])\n",
    "\n",
    "print(f\"Std value of feature_0 for training: {std_0_training:.9f}\")\n",
    "print(f\"Std value of feature_1 for training: {std_1_training:.9f}\")\n",
    "print(f\"Std value of feature_2 for training: {std_2_training:.9f}\")\n",
    "print(f\"Std value of feature_3 for training: {std_3_training:.9f}\")\n",
    "\n",
    "\n",
    "#TESTING\n",
    "#std for testing data columns\n",
    "\n",
    "#std of feature_0\n",
    "std_0_test = np.std(numeric_array_test[:, 0])\n",
    "\n",
    "#std of feature_1\n",
    "std_1_test = np.std(numeric_array_test[:, 1])\n",
    "\n",
    "#std of feature_2\n",
    "std_2_test = np.std(numeric_array_test[:, 2])\n",
    "\n",
    "#std of feature_3\n",
    "std_3_test = np.std(numeric_array_test[:, 3])\n",
    "\n",
    "print(f\"Std value of feature_0 for testing: {std_0_test:.9f}\")\n",
    "print(f\"Std value of feature_1 for testing: {std_1_test:.9f}\")\n",
    "print(f\"Std value of feature_2 for testing: {std_2_test:.9f}\")\n",
    "print(f\"Std value of feature_3 for testing: {std_3_test:.9f}\")"
   ]
  },
  {
   "cell_type": "markdown",
   "id": "4ed95430-8b23-492e-97c2-bcf8f4066f28",
   "metadata": {},
   "source": [
    "##### 8) Now that we have our data prepared, we can feed it into our Naive Bayes Classifier to be trained! Oh, but we need a classifier first. Build a Naive Bayes Classifier by filling in the methods below (you may add methods, additional parameters, and class variables as you see fit):\n",
    "*Hint: We no longer have a discerete set of values for our features, which makes this a bit different from our initial example. Since this data set is continuous, we make an alterations to our probability function by using a <a href=\"https://scikit-learn.org/stable/modules/naive_bayes.html\">Guassian Distribution</a>*\n",
    "$$\n",
    "P(x_i|c)=\\frac{1}{\\sqrt{2\\pi\\sigma^2_c}}\\text{exp}(-\\frac{(x_i-\\mu_c)^2}{2\\sigma^2_c})\n",
    "$$\n",
    "Where σ is the standard deviation and µ is the mean of a feature."
   ]
  },
  {
   "cell_type": "code",
   "execution_count": 495,
   "id": "b3d387e1-9f88-4cc6-9db3-bc9b21779204",
   "metadata": {},
   "outputs": [],
   "source": [
    "#Edit this class however you please. We gave it some structure to make problem solving a bit quicker on your end.\n",
    "#If you envision the setup a certain way and can improve on it, go for it!\n",
    "#As long as the algorithm works and the class is well documented, that's good enough for us!\n",
    "\n",
    "class NaiveBayes:\n",
    "    def __init__(self):\n",
    "        self.labels = {} #Our unique labels\n",
    "        self.rowsInSet = {} #Dictionary containing how many of each label we have\n",
    "        self.classProb = {} #Contains the probability of every class occurence\n",
    "\n",
    "        #means of each class's features\n",
    "        self.means = {\n",
    "            'Training Class': {'feature_0': mean_feature_0, 'feature_1': mean_feature_1, 'feature_2': mean_feature_2, 'feature_3': mean_feature_3},\n",
    "            'Test Class': {'feature_0': mean_feature_0_test, 'feature_1': mean_feature_1_test, 'feature_2': mean_feature_2_test, 'feature_3': mean_feature_3_test}\n",
    "        }\n",
    "\n",
    "        #standard deviations of each class's features\n",
    "        self.stdDev = {\n",
    "            'Training Class': {'feature_0': std_0_training, 'feature_1': std_1_training, 'feature_2': std_2_training, 'feature_3': std_3_training},\n",
    "            'Test Class': {'feature_0': std_0_test, 'feature_1': std_1_test, 'feature_2': std_2_test, 'feature_3': std_3_test}\n",
    "        }\n",
    "\n",
    "    def splitByLabel(self, features, labels): #may not need\n",
    "        #Get the subsets of data for each unique class/label\n",
    "        #Return the dictionary of those sets\n",
    "        datasetsByLabel = {}  #Dictionary containing all the subsets\n",
    "        self.rowsInSet = {}   #Dictionary containing how many of each label we have\n",
    "\n",
    "        for i in range(len(labels)):\n",
    "            feature_set = features[i]\n",
    "            label = labels[i]  #label as scalar\n",
    "            #new entry for each\n",
    "            if label not in datasetsByLabel:\n",
    "                datasetsByLabel[label] = []\n",
    "            #append feature\n",
    "            datasetsByLabel[label].append(feature_set)\n",
    "            #update rows\n",
    "            self.rowsInSet[label] = self.rowsInSet.get(label, 0) + 1\n",
    "        return datasetsByLabel\n",
    "\n",
    "    def gaussianProbabilityCalc(self, feature, mean, stdDev):\n",
    "        #Calculate class probability using Gaussian distribution\n",
    "        #1/sqrt(2*pi*(stdDev)^2) * e^(-(feature - mean)^2 / (2*stdDev^2))\n",
    "        leadingTerm = 1 / (np.sqrt(2 * np.pi) * stdDev)\n",
    "        expComponent = np.exp(-((float(feature) - mean) ** 2) / (2 * stdDev ** 2))\n",
    "        return leadingTerm * expComponent\n",
    "\n",
    "    def getClassProbability(self, inputFeatureVector):\n",
    "        #predict the probability of every class for the given input (a single row of data with 4 features)\n",
    "        #Reference the MAP product rule\n",
    "        classProbInput = {}\n",
    "        for label in self.rowsInSet: #go through training labels\n",
    "            probability = 1\n",
    "            for i, feature in enumerate(inputFeatureVector):\n",
    "                mean = self.means['Training Class']['feature_' + str(i)]\n",
    "                stdDev = self.stdDev['Training Class']['feature_' + str(i)]\n",
    "                probability *= self.gaussianProbabilityCalc(feature, mean, stdDev)\n",
    "            classProbInput[label] = probability * self.classProb[label]\n",
    "        return classProbInput\n",
    "\n",
    "    def train(self, features, labels):\n",
    "        self.labels = np.unique(labels)  # All of our unique class labels [0,1,2]\n",
    "        print(\"labels:\")\n",
    "        print(self.labels)\n",
    "        #Setups and stores the variables we need to do the MAP rule and make predictions\n",
    "        #Revisit the example and the guassian probability equation if you are stuck.\n",
    "        self.rowsInSet = {label: 0 for label in self.labels}  #initialize rowsInSet w/ all labels\n",
    "        for label in labels.flatten():  #flatten 2D array into individual labels\n",
    "            self.rowsInSet[label] += 1  #label counts\n",
    "        print(\"rowsInSet:\")\n",
    "        print(self.rowsInSet)\n",
    "        total_samples = len(labels)  #total #\n",
    "        self.classProb = {label: count / total_samples for label, count in self.rowsInSet.items()}  #probability for each class\n",
    "        print(\"Self ClassProb:\")\n",
    "        print(self.classProb)\n",
    "        return\n",
    "\n",
    "    def predict(self, features):\n",
    "        #Predict the labels for the inputs\n",
    "        output = []  # All of the output labels\n",
    "        for x in features:\n",
    "            #Go through each row of data, make a prediction, append label to output\n",
    "            #(it should look like test_labels when you are done)\n",
    "            biggest_probability = float(\"-inf\")\n",
    "            predicted_label = None\n",
    "            for label in self.labels:\n",
    "                probability = self.getClassProbability(x)[label]\n",
    "                print(\"new probability:\")\n",
    "                print(probability)\n",
    "                if probability > biggest_probability:\n",
    "                    biggest_probability = probability\n",
    "                    predicted_label = label\n",
    "                    print(\"Predicted label:\")\n",
    "                    print(predicted_label)\n",
    "            output.append(predicted_label)\n",
    "        return output \n"
   ]
  },
  {
   "cell_type": "code",
   "execution_count": 487,
   "id": "49603662-6f57-422a-87d0-3623f9ebf6dc",
   "metadata": {},
   "outputs": [
    {
     "name": "stdout",
     "output_type": "stream",
     "text": [
      "labels:\n",
      "['0' '1' '2']\n",
      "rowsInSet:\n",
      "{'0': 32, '1': 35, '2': 33}\n",
      "Self ClassProb:\n",
      "{'0': 0.32, '1': 0.35, '2': 0.33}\n",
      "new probability:\n",
      "9.130270410791486\n",
      "Predicted label:\n",
      "0\n",
      "new probability:\n",
      "9.986233261803186\n",
      "Predicted label:\n",
      "1\n",
      "new probability:\n",
      "9.415591361128719\n",
      "new probability:\n",
      "37.71263952517435\n",
      "Predicted label:\n",
      "0\n",
      "new probability:\n",
      "41.248199480659444\n",
      "Predicted label:\n",
      "1\n",
      "new probability:\n",
      "38.89115951033605\n",
      "new probability:\n",
      "78.89836361720931\n",
      "Predicted label:\n",
      "0\n",
      "new probability:\n",
      "86.29508520632268\n",
      "Predicted label:\n",
      "1\n",
      "new probability:\n",
      "81.36393748024712\n",
      "new probability:\n",
      "87.46241969502896\n",
      "Predicted label:\n",
      "0\n",
      "new probability:\n",
      "95.66202154143791\n",
      "Predicted label:\n",
      "1\n",
      "new probability:\n",
      "90.19562031049861\n",
      "new probability:\n",
      "4.326746215792457\n",
      "Predicted label:\n",
      "0\n",
      "new probability:\n",
      "4.732378673523\n",
      "Predicted label:\n",
      "1\n",
      "new probability:\n",
      "4.461957035035971\n",
      "new probability:\n",
      "51.823136400283666\n",
      "Predicted label:\n",
      "0\n",
      "new probability:\n",
      "56.68155543781025\n",
      "Predicted label:\n",
      "1\n",
      "new probability:\n",
      "53.442609412792535\n",
      "new probability:\n",
      "5.924623635367294\n",
      "Predicted label:\n",
      "0\n",
      "new probability:\n",
      "6.480057101182978\n",
      "Predicted label:\n",
      "1\n",
      "new probability:\n",
      "6.109768123972523\n",
      "new probability:\n",
      "21.918864745238043\n",
      "Predicted label:\n",
      "0\n",
      "new probability:\n",
      "23.973758315104106\n",
      "Predicted label:\n",
      "1\n",
      "new probability:\n",
      "22.603829268526734\n",
      "new probability:\n",
      "4.190392261124849\n",
      "Predicted label:\n",
      "0\n",
      "new probability:\n",
      "4.583241535605303\n",
      "Predicted label:\n",
      "1\n",
      "new probability:\n",
      "4.321342019285001\n",
      "new probability:\n",
      "73.95943634143273\n",
      "Predicted label:\n",
      "0\n",
      "new probability:\n",
      "80.89313349844204\n",
      "Predicted label:\n",
      "1\n",
      "new probability:\n",
      "76.2706687271025\n",
      "new probability:\n",
      "44.15511347848559\n",
      "Predicted label:\n",
      "0\n",
      "new probability:\n",
      "48.29465536709361\n",
      "Predicted label:\n",
      "1\n",
      "new probability:\n",
      "45.534960774688265\n",
      "new probability:\n",
      "29.65412473512861\n",
      "Predicted label:\n",
      "0\n",
      "new probability:\n",
      "32.434198929046914\n",
      "Predicted label:\n",
      "1\n",
      "new probability:\n",
      "30.580816133101383\n",
      "new probability:\n",
      "43.46734473505342\n",
      "Predicted label:\n",
      "0\n",
      "new probability:\n",
      "47.54240830396468\n",
      "Predicted label:\n",
      "1\n",
      "new probability:\n",
      "44.82569925802384\n",
      "new probability:\n",
      "30.15196969823664\n",
      "Predicted label:\n",
      "0\n",
      "new probability:\n",
      "32.97871685744632\n",
      "Predicted label:\n",
      "1\n",
      "new probability:\n",
      "31.094218751306535\n",
      "new probability:\n",
      "5.952507081204628\n",
      "Predicted label:\n",
      "0\n",
      "new probability:\n",
      "6.510554620067561\n",
      "Predicted label:\n",
      "1\n",
      "new probability:\n",
      "6.138522927492272\n",
      "new probability:\n",
      "103.18894867923558\n",
      "Predicted label:\n",
      "0\n",
      "new probability:\n",
      "112.8629126179139\n",
      "Predicted label:\n",
      "1\n",
      "new probability:\n",
      "106.4136033254617\n",
      "new probability:\n",
      "19.893152331422854\n",
      "Predicted label:\n",
      "0\n",
      "new probability:\n",
      "21.758135362493746\n",
      "Predicted label:\n",
      "1\n",
      "new probability:\n",
      "20.51481334177982\n",
      "new probability:\n",
      "4.720462865105869\n",
      "Predicted label:\n",
      "0\n",
      "new probability:\n",
      "5.163006258709544\n",
      "Predicted label:\n",
      "1\n",
      "new probability:\n",
      "4.867977329640428\n",
      "new probability:\n",
      "2.5334774614158637\n",
      "Predicted label:\n",
      "0\n",
      "new probability:\n",
      "2.770990973423601\n",
      "Predicted label:\n",
      "1\n",
      "new probability:\n",
      "2.6126486320851097\n",
      "new probability:\n",
      "3.3745687308133943\n",
      "Predicted label:\n",
      "0\n",
      "new probability:\n",
      "3.69093454932715\n",
      "Predicted label:\n",
      "1\n",
      "new probability:\n",
      "3.4800240036513133\n",
      "new probability:\n",
      "57.76195560173386\n",
      "Predicted label:\n",
      "0\n",
      "new probability:\n",
      "63.17713893939641\n",
      "Predicted label:\n",
      "1\n",
      "new probability:\n",
      "59.567016714288044\n",
      "new probability:\n",
      "4.163709880175969\n",
      "Predicted label:\n",
      "0\n",
      "new probability:\n",
      "4.554057681442466\n",
      "Predicted label:\n",
      "1\n",
      "new probability:\n",
      "4.293825813931468\n",
      "new probability:\n",
      "6.237748901460158\n",
      "Predicted label:\n",
      "0\n",
      "new probability:\n",
      "6.822537860972047\n",
      "Predicted label:\n",
      "1\n",
      "new probability:\n",
      "6.432678554630788\n",
      "new probability:\n",
      "5.4120971830120315\n",
      "Predicted label:\n",
      "0\n",
      "new probability:\n",
      "5.919481293919409\n",
      "Predicted label:\n",
      "1\n",
      "new probability:\n",
      "5.581225219981158\n",
      "[['0']\n",
      " ['2']\n",
      " ['1']\n",
      " ['1']\n",
      " ['0']\n",
      " ['2']\n",
      " ['0']\n",
      " ['2']\n",
      " ['0']\n",
      " ['1']\n",
      " ['2']\n",
      " ['2']\n",
      " ['1']\n",
      " ['2']\n",
      " ['0']\n",
      " ['1']\n",
      " ['2']\n",
      " ['0']\n",
      " ['0']\n",
      " ['0']\n",
      " ['2']\n",
      " ['0']\n",
      " ['0']\n",
      " ['0']]\n",
      "Predictions: \n",
      "['1', '1', '1', '1', '1', '1', '1', '1', '1', '1', '1', '1', '1', '1', '1', '1', '1', '1', '1', '1', '1', '1', '1', '1']\n"
     ]
    }
   ],
   "source": [
    "model = NaiveBayes()\n",
    "\n",
    "model.train(numeric_array_train, training_labels) #was training_features\n",
    "predictions = model.predict(test_features)\n",
    "print(test_labels)\n",
    "\n",
    "print(\"Predictions: \")\n",
    "print(predictions)"
   ]
  },
  {
   "cell_type": "markdown",
   "id": "e7b3ec42-92e3-48e1-a3a4-3792250fede1",
   "metadata": {},
   "source": [
    "##### 9)Now that you've made your predictions, let's look at how our classifier performed. Use 3 of <a href=\"https://scikit-learn.org/stable/modules/model_evaluation.html\">scikit learn's classifier metrics</a> to evaluate how your classifier performed."
   ]
  },
  {
   "cell_type": "code",
   "execution_count": 496,
   "id": "01d489b7-30fe-43ad-9cfc-179452617fa1",
   "metadata": {},
   "outputs": [
    {
     "name": "stdout",
     "output_type": "stream",
     "text": [
      "Accuracy: 0.2916666666666667\n",
      "Precision: 0.08506944444444446\n",
      "Recall: 0.2916666666666667\n"
     ]
    },
    {
     "name": "stderr",
     "output_type": "stream",
     "text": [
      "C:\\Users\\hana_\\anaconda3\\Lib\\site-packages\\sklearn\\metrics\\_classification.py:1344: UndefinedMetricWarning: Precision is ill-defined and being set to 0.0 in labels with no predicted samples. Use `zero_division` parameter to control this behavior.\n",
      "  _warn_prf(average, modifier, msg_start, len(result))\n"
     ]
    }
   ],
   "source": [
    "#Your code here\n",
    "from sklearn.metrics import accuracy_score, precision_score, recall_score\n",
    "accuracy = accuracy_score(test_labels, predictions)\n",
    "precision = precision_score(test_labels, predictions, average='weighted')\n",
    "recall = recall_score(test_labels, predictions, average='weighted')\n",
    "\n",
    "print(\"Accuracy:\", accuracy)\n",
    "print(\"Precision:\", precision)\n",
    "print(\"Recall:\", recall)\n"
   ]
  },
  {
   "cell_type": "markdown",
   "id": "8b40d8f4-b0fa-45d0-9645-e42d62f95eaa",
   "metadata": {},
   "source": [
    "##### 10) Did it perform how you expected? Or di exceed your expectations? Try to improve the performance of your classifier if it isn't performing as expected or, if it did perform well, justify it's performance using data visualizations. This may require some <a href=\"https://towardsdatascience.com/exploratory-data-analysis-in-python-a-step-by-step-process-d0dfa6bf94ee\">*exploratory data analysis*</a>. Use visualizations, statistics, and whatever else you need to try to improve performance or support your work. Leave your work and documentation below (use as many cells as you need). You may use libraries such as Plotly, Matplotlib, etc. to aid you. There is no right or wrong answers here, just exploration!"
   ]
  },
  {
   "cell_type": "code",
   "execution_count": 497,
   "id": "f00f06c3-c1ae-4ef2-aa6d-c11732f53a57",
   "metadata": {},
   "outputs": [
    {
     "name": "stdout",
     "output_type": "stream",
     "text": [
      "Confusion Matrix:\n",
      "[[ 0 11  0]\n",
      " [ 0  7  0]\n",
      " [ 0  6  0]]\n",
      "\n",
      "Classification Report:\n",
      "              precision    recall  f1-score   support\n",
      "\n",
      "           0       0.00      0.00      0.00        11\n",
      "           1       0.29      1.00      0.45         7\n",
      "           2       0.00      0.00      0.00         6\n",
      "\n",
      "    accuracy                           0.29        24\n",
      "   macro avg       0.10      0.33      0.15        24\n",
      "weighted avg       0.09      0.29      0.13        24\n",
      "\n"
     ]
    },
    {
     "name": "stderr",
     "output_type": "stream",
     "text": [
      "C:\\Users\\hana_\\anaconda3\\Lib\\site-packages\\sklearn\\metrics\\_classification.py:1344: UndefinedMetricWarning: Precision and F-score are ill-defined and being set to 0.0 in labels with no predicted samples. Use `zero_division` parameter to control this behavior.\n",
      "  _warn_prf(average, modifier, msg_start, len(result))\n",
      "C:\\Users\\hana_\\anaconda3\\Lib\\site-packages\\sklearn\\metrics\\_classification.py:1344: UndefinedMetricWarning: Precision and F-score are ill-defined and being set to 0.0 in labels with no predicted samples. Use `zero_division` parameter to control this behavior.\n",
      "  _warn_prf(average, modifier, msg_start, len(result))\n",
      "C:\\Users\\hana_\\anaconda3\\Lib\\site-packages\\sklearn\\metrics\\_classification.py:1344: UndefinedMetricWarning: Precision and F-score are ill-defined and being set to 0.0 in labels with no predicted samples. Use `zero_division` parameter to control this behavior.\n",
      "  _warn_prf(average, modifier, msg_start, len(result))\n"
     ]
    },
    {
     "data": {
      "image/png": "[encoded data removed]",
      "text/plain": [
       "<Figure size 800x600 with 2 Axes>"
      ]
     },
     "metadata": {},
     "output_type": "display_data"
    }
   ],
   "source": [
    "#Your code here\n",
    "import numpy as np\n",
    "import matplotlib.pyplot as plt\n",
    "from sklearn.metrics import confusion_matrix, classification_report\n",
    "\n",
    "#classifier performace\n",
    "conf_matrix = confusion_matrix(test_labels, predictions)\n",
    "class_report = classification_report(test_labels, predictions)\n",
    "\n",
    "#show confusion matrix + classification report\n",
    "print(\"Confusion Matrix:\")\n",
    "print(conf_matrix)\n",
    "print(\"\\nClassification Report:\")\n",
    "print(class_report)\n",
    "\n",
    "#confusion matrix visual\n",
    "plt.figure(figsize=(8, 6))\n",
    "plt.imshow(conf_matrix, interpolation='nearest', cmap=plt.cm.Greens)\n",
    "plt.title('Confusion Matrix')\n",
    "plt.colorbar()\n",
    "class_labels = np.unique(test_labels)\n",
    "tick_marks = np.arange(len(class_labels))\n",
    "plt.xticks(tick_marks, class_labels)\n",
    "plt.yticks(tick_marks, class_labels)\n",
    "plt.xlabel('Predicted Label')\n",
    "plt.ylabel('True Label')\n",
    "plt.show()\n"
   ]
  },
  {
   "cell_type": "markdown",
   "id": "95291124-092e-414f-8dfd-40d8c1dafc05",
   "metadata": {},
   "source": [
    "##### 11) Were you able to make improvements to your classifier? Why or why not? Hint: Naive Bayes is generally pretty straight forward to plot and see where the algorithm created boundaries. Use this to help you come to your conclusion."
   ]
  },
  {
   "cell_type": "markdown",
   "id": "87262167-35b6-4223-a793-186ce738aba0",
   "metadata": {},
   "source": [
    "*Your explanation and supporting content here*\n",
    "I have traced through the logic of my predict method and others to try to figure out how to improve issues I am having where the predicted labels are only 1s and 0s. I have not yet determined what the issue is, but here is my progress so far.\n"
   ]
  }
 ],
 "metadata": {
  "kernelspec": {
   "display_name": "Python 3 (ipykernel)",
   "language": "python",
   "name": "python3"
  },
  "language_info": {
   "codemirror_mode": {
    "name": "ipython",
    "version": 3
   },
   "file_extension": ".py",
   "mimetype": "text/x-python",
   "name": "python",
   "nbconvert_exporter": "python",
   "pygments_lexer": "ipython3",
   "version": "3.11.7"
  }
 },
 "nbformat": 4,
 "nbformat_minor": 5
}
